{
 "cells": [
  {
   "cell_type": "markdown",
   "metadata": {
    "slideshow": {
     "slide_type": "slide"
    }
   },
   "source": [
    "# Frequentism and Bayesianism II: When Results Differ\n",
    "\n",
    "**Mario Juric, University of Washington**\n",
    "\n",
    "**e-mail: <mjuric@astro.washington.edu>, twitter: [@mjuric](http://twitter.com/mjuric)**\n",
    "\n",
    "---"
   ]
  },
  {
   "cell_type": "markdown",
   "metadata": {},
   "source": [
    "*This lecture series is almost entirely based on a [post](http://jakevdp.github.io/blog/2014/06/06/frequentism-and-bayesianism-2-when-results-differ/) on the blog [Pythonic Perambulations](http://jakevdp.github.io), by [Jake VanderPlas](https://staff.washington.edu/jakevdp/). The content is BSD licensed. See also VanderPlas (2014) [\"Frequentism and Bayesianism: A Python-driven Primer\"](http://arxiv.org/abs/1411.5018).*\n",
    "\n",
    "*Slides built using the excellent [RISE](https://github.com/damianavila/RISE) Jupyter extension by [Damian Avila](https://github.com/damianavila).*"
   ]
  },
  {
   "cell_type": "markdown",
   "metadata": {
    "slideshow": {
     "slide_type": "slide"
    }
   },
   "source": [
    "We just showed that Bayesian and Frequentist approaches are often equivalent for simple problems. But it is also true that they can diverge greatly for more complicated problems. In practice, this divergence makes itself most clear in two different situations:\n",
    "\n",
    "1. The handling of \"nuisance parameters\"\n",
    "2. The subtle (and often overlooked) difference between frequentist confidence intervals and Bayesian credible intervals\n",
    "\n",
    "The second point is a bit more involved, and we'll save it for the end. Here, we focus on the first point: the difference between frequentist and Bayesian treatment of nuisance parameters."
   ]
  },
  {
   "cell_type": "markdown",
   "metadata": {
    "slideshow": {
     "slide_type": "slide"
    }
   },
   "source": [
    "## What is a Nuisance Parameter?"
   ]
  },
  {
   "cell_type": "markdown",
   "metadata": {},
   "source": [
    "***A nuisance parameter is any quantity whose value is not relevant to the goal of an analysis, but is nevertheless required to determine some quantity of interest***.\n",
    "\n",
    "For example, in the [second application](http://jakevdp.github.io/blog/2014/03/11/frequentism-and-bayesianism-a-practical-intro/#Varying-Photon-Counts:-The-Bayesian-Approach) worked-through in the previous part, we estimated both the mean $\\mu$ and intrinsic scatter $\\sigma$ for the observed photons. In practice, we may only be interested in $\\mu$, the mean of the distribution. In this case $\\sigma$ is a nuisance parameter: it is not of immediate interest, but is nevertheless an essential stepping-stone in determining the final estimate of $\\mu$, the parameter of interest."
   ]
  },
  {
   "cell_type": "markdown",
   "metadata": {
    "slideshow": {
     "slide_type": "slide"
    }
   },
   "source": [
    "To illustrate this, we're going to go through two examples where nuisance parameters come into play. We'll explore both the frequentist and the Bayesian approach to solving both of these problems:"
   ]
  },
  {
   "cell_type": "markdown",
   "metadata": {
    "slideshow": {
     "slide_type": "slide"
    }
   },
   "source": [
    "## Example #1: The Bayesian Billiard Game"
   ]
  },
  {
   "cell_type": "markdown",
   "metadata": {},
   "source": [
    "We'll start with an example of nuisance parameters that, in one form or another, dates all the way back to the posthumous [1763 paper](http://www.stat.ucla.edu/history/essay.pdf) written by Thomas Bayes himself. The particular version of this problem we'll study is borrowed from [Eddy 2004](ftp://selab.janelia.org/pub/publications/Eddy-ATG3/Eddy-ATG3-reprint.pdf)."
   ]
  },
  {
   "cell_type": "markdown",
   "metadata": {
    "slideshow": {
     "slide_type": "slide"
    }
   },
   "source": [
    "The setting is a rather contrived game in which Alice and Bob bet on the outcome of a process they can't directly observe:\n",
    "\n",
    "> Alice and Bob enter a room. Behind a curtain there is a billiard table, which they cannot see, but their friend Carol can. Carol rolls a ball down the table, and marks where it lands. Once this mark is in place, Carol begins rolling new balls down the table. If the ball lands to the left of the mark, Alice gets a point; if it lands to the right of the mark, Bob gets a point.  We can assume for the sake of example that Carol's rolls are unbiased: that is, the balls have an equal chance of ending up anywhere on the table.  The first person to reach **six points** wins the game."
   ]
  },
  {
   "cell_type": "markdown",
   "metadata": {
    "slideshow": {
     "slide_type": "slide"
    }
   },
   "source": [
    "Here ***the location of the mark (determined by the first roll) can be considered a nuisance parameter***.\n",
    "\n",
    "It is unknown, and not of immediate interest, but it clearly must be accounted for when predicting the outcome of subsequent rolls. If the first roll settles far to the right, then subsequent rolls will favor Alice. If it settles far to the left, Bob will be favored instead."
   ]
  },
  {
   "cell_type": "markdown",
   "metadata": {
    "slideshow": {
     "slide_type": "slide"
    }
   },
   "source": [
    "Given this setup, here is the question we ask of ourselves:\n",
    "\n",
    "> In a particular game, after eight rolls, Alice has five points and Bob has three points. What is the probability that Bob will go on to win the game?\n",
    "\n",
    "Intuitively, you probably realize that because Alice received five of the eight points, the marker placement likely favors her. And given this, it's more likely that the next roll will go her way as well. And she has three opportunities to get a favorable roll before Bob can win; she seems to have clinched it.  But, **quantitatively**, what is the probability that Bob will squeak-out a win?"
   ]
  },
  {
   "cell_type": "markdown",
   "metadata": {
    "slideshow": {
     "slide_type": "slide"
    }
   },
   "source": [
    "### A Naïve Frequentist Approach"
   ]
  },
  {
   "cell_type": "markdown",
   "metadata": {
    "slideshow": {
     "slide_type": "slide"
    }
   },
   "source": [
    "Someone following a classical frequentist approach might reason as follows:\n",
    "\n",
    "To determine the result, we need an intermediate estimate of where the marker sits. We'll quantify this marker placement as a probability $p$ that any given roll lands in Alice's favor.  Because five balls out of eight fell on Alice's side of the marker, we can quickly show that the maximum likelihood estimate of $p$ is given by:\n",
    "\n",
    "$$\n",
    "\\hat{p} = 5/8\n",
    "$$\n",
    "\n",
    "(This result follows in a straightforward manner from the [binomial likelihood](http://en.wikipedia.org/wiki/Binomial_distribution)). Assuming this maximum likelihood probability, we can compute the probability that Bob will win, which is given by:\n",
    "\n",
    "$$\n",
    "P(B) = (1 - \\hat{p})^3\n",
    "$$\n",
    "\n",
    "That is, he needs to win three rolls in a row."
   ]
  },
  {
   "cell_type": "markdown",
   "metadata": {
    "slideshow": {
     "slide_type": "slide"
    }
   },
   "source": [
    "Thus, we find that the following estimate of the probability:"
   ]
  },
  {
   "cell_type": "code",
   "execution_count": 1,
   "metadata": {},
   "outputs": [
    {
     "name": "stdout",
     "output_type": "stream",
     "text": [
      "Naïve Frequentist Probability of Bob Winning: 0.05\n"
     ]
    }
   ],
   "source": [
    "p_hat = 5. / 8.\n",
    "freq_prob = (1 - p_hat) ** 3\n",
    "print(\"Naïve Frequentist Probability of Bob Winning: {0:.2f}\".format(freq_prob))"
   ]
  },
  {
   "cell_type": "markdown",
   "metadata": {
    "slideshow": {
     "slide_type": "slide"
    }
   },
   "source": [
    "In other words, we'd give Bob the following odds of winning:"
   ]
  },
  {
   "cell_type": "code",
   "execution_count": 2,
   "metadata": {},
   "outputs": [
    {
     "name": "stdout",
     "output_type": "stream",
     "text": [
      "Odds against Bob winning: 18 to 1\n"
     ]
    }
   ],
   "source": [
    "print(\"Odds against Bob winning: {0:.0f} to 1\".format((1. - freq_prob) / freq_prob))"
   ]
  },
  {
   "cell_type": "markdown",
   "metadata": {},
   "source": [
    "So we've estimated using frequentist ideas that Alice will win about 18 times for each time Bob wins. Let's try a Bayesian approach next."
   ]
  },
  {
   "cell_type": "markdown",
   "metadata": {
    "slideshow": {
     "slide_type": "slide"
    }
   },
   "source": [
    "### Bayesian Approach"
   ]
  },
  {
   "cell_type": "markdown",
   "metadata": {
    "slideshow": {
     "slide_type": "slide"
    }
   },
   "source": [
    "We can also approach this problem from a Bayesian standpoint. This is slightly more involved, and requires us to first define some notation.\n",
    "\n",
    "We'll consider the following random variables:\n",
    "\n",
    "- $B$ = Bob Wins\n",
    "- $D$ = observed data, i.e. $D = (n_A, n_B) = (5, 3)$\n",
    "- $p$ = unknown probability that a ball lands on Alice's side during the current game\n",
    "\n",
    "We want to compute $P(B~|~D)$; that is, the probability that Bob wins given our observation that Alice currently has five points to Bob's three."
   ]
  },
  {
   "cell_type": "markdown",
   "metadata": {
    "slideshow": {
     "slide_type": "slide"
    }
   },
   "source": [
    "The general Bayesian method of treating nuisance parameters is ***marginalization***, or integrating the joint probability over the entire range of the nuisance parameter. In this case, that means that we will first calculate the joint distribution\n",
    "$$\n",
    "P(B,p~|~D)\n",
    "$$\n",
    "and then marginalize over $p$ using the following identity:\n",
    "$$\n",
    "P(B~|~D) \\equiv \\int_{-\\infty}^\\infty P(B,p~|~D) {\\mathrm d}p\n",
    "$$\n",
    "This identity follows from the definition of conditional probability, and the law of total probability: that is, it is a fundamental consequence of probability axioms and will always be true. Even a frequentist would recognize this; they would simply disagree with our interpretation of $P(p)$ as being a measure of uncertainty of our own knowledge."
   ]
  },
  {
   "cell_type": "markdown",
   "metadata": {
    "slideshow": {
     "slide_type": "slide"
    }
   },
   "source": [
    "#### Building our Bayesian Expression"
   ]
  },
  {
   "cell_type": "markdown",
   "metadata": {},
   "source": [
    "To compute this result, we will manipulate the above expression for $P(B~|~D)$ until we can express it in terms of other quantities that we can compute."
   ]
  },
  {
   "cell_type": "markdown",
   "metadata": {
    "slideshow": {
     "slide_type": "slide"
    }
   },
   "source": [
    "We'll start by applying the following definition of [conditional probability](http://en.wikipedia.org/wiki/Conditional_probability#Definition) to expand the term $P(B,p~|~D)$:\n",
    "\n",
    "$$\n",
    "P(B~|~D) = \\int P(B~|~p, D) P(p~|~D) dp\n",
    "$$"
   ]
  },
  {
   "cell_type": "markdown",
   "metadata": {
    "slideshow": {
     "slide_type": "slide"
    }
   },
   "source": [
    "Next we use [Bayes' rule](http://en.wikipedia.org/wiki/Bayes%27_theorem) to rewrite $P(p~|~D)$:\n",
    "\n",
    "$$\n",
    "P(B~|~D) = \\int P(B~|~p, D) \\frac{P(D~|~p)P(p)}{P(D)} dp\n",
    "$$"
   ]
  },
  {
   "cell_type": "markdown",
   "metadata": {
    "slideshow": {
     "slide_type": "slide"
    }
   },
   "source": [
    "Finally, using the same probability identity we started with, we can expand $P(D)$ in the denominator to find:\n",
    "\n",
    "$$\n",
    "P(B~|~D) = \\frac{\\int P(B~|~p,D) P(D~|~p) P(p) dp}{\\int P(D~|~p)P(p) dp}\n",
    "$$"
   ]
  },
  {
   "cell_type": "markdown",
   "metadata": {
    "slideshow": {
     "slide_type": "slide"
    }
   },
   "source": [
    "Now the desired probability is expressed in terms of three quantities that we can compute. Let's look at each of these in turn:\n",
    "<small>\n",
    "- $P(B~|~p,D)$: This term is exactly the frequentist likelihood we used above. In words: given a marker placement $p$ and the fact that Alice has won 5 times and Bob 3 times, what is the probability that Bob will go on to six wins?  Bob needs three wins in a row, i.e. $P(B~|~p,D) = (1 - p) ^ 3$.\n",
    "- $P(D~|~p)$: this is another easy-to-compute term. In words: given a probability $p$, what is the likelihood of exactly 5 positive outcomes out of eight trials? The answer comes from the well-known [Binomial distribution](http://en.wikipedia.org/wiki/Binomial_distribution): in this case $P(D~|~p) \\propto p^5 (1-p)^3$\n",
    "- $P(p)$: this is our prior on the probability $p$. By the problem definition, we can assume that $p$ is evenly drawn between 0 and 1.  That is, $P(p) \\propto 1$, and the integrals range from 0 to 1.</small>"
   ]
  },
  {
   "cell_type": "markdown",
   "metadata": {
    "slideshow": {
     "slide_type": "slide"
    }
   },
   "source": [
    "Putting this all together, canceling some terms, and simplifying a bit, we find\n",
    "$$\n",
    "P(B~|~D) = \\frac{\\int_0^1 (1 - p)^6 p^5 dp}{\\int_0^1 (1 - p)^3 p^5 dp}\n",
    "$$\n",
    "where both integrals are evaluated from 0 to 1."
   ]
  },
  {
   "cell_type": "markdown",
   "metadata": {
    "slideshow": {
     "slide_type": "slide"
    }
   },
   "source": [
    "These integrals might look a bit difficult, until we notice that they are special cases of the [Beta Function](http://en.wikipedia.org/wiki/Beta_function):\n",
    "$$\n",
    "\\beta(n, m) = \\int_0^1 (1 - p)^{n - 1} p^{m - 1}\n",
    "$$"
   ]
  },
  {
   "cell_type": "markdown",
   "metadata": {
    "slideshow": {
     "slide_type": "slide"
    }
   },
   "source": [
    "We'll compute these directly using Scipy's beta function implementation:"
   ]
  },
  {
   "cell_type": "code",
   "execution_count": 3,
   "metadata": {},
   "outputs": [
    {
     "name": "stdout",
     "output_type": "stream",
     "text": [
      "P(B|D) = 0.09\n"
     ]
    }
   ],
   "source": [
    "from scipy.special import beta\n",
    "bayes_prob = beta(6 + 1, 5 + 1) / beta(3 + 1, 5 + 1)\n",
    "\n",
    "print(\"P(B|D) = {0:.2f}\".format(bayes_prob))"
   ]
  },
  {
   "cell_type": "markdown",
   "metadata": {
    "slideshow": {
     "slide_type": "-"
    }
   },
   "source": [
    "The associated odds are the following:"
   ]
  },
  {
   "cell_type": "code",
   "execution_count": 4,
   "metadata": {},
   "outputs": [
    {
     "name": "stdout",
     "output_type": "stream",
     "text": [
      "Bayesian odds against Bob winning: 10 to 1\n"
     ]
    }
   ],
   "source": [
    "print(\"Bayesian odds against Bob winning: {0:.0f} to 1\".format((1. - bayes_prob) / bayes_prob))"
   ]
  },
  {
   "cell_type": "markdown",
   "metadata": {},
   "source": [
    "So we see that the Bayesian result gives us 10 to 1 odds, which is quite different than the 18 to 1 odds found using the frequentist approach. So which one is correct?"
   ]
  },
  {
   "cell_type": "markdown",
   "metadata": {
    "slideshow": {
     "slide_type": "slide"
    }
   },
   "source": [
    "### A Brute Force/Monte Carlo Approach"
   ]
  },
  {
   "cell_type": "markdown",
   "metadata": {},
   "source": [
    "For this type of well-defined and simple setup, it is actually relatively easy to use a Monte Carlo simulation to determine the correct answer. This is essentially a brute-force tabulation of possible outcomes: we generate a large number of random games, and simply count the fraction of relevant games that Bob goes on to win. The current problem is especially simple because so many of the random variables involved are uniformly distributed. "
   ]
  },
  {
   "cell_type": "markdown",
   "metadata": {
    "slideshow": {
     "slide_type": "slide"
    }
   },
   "source": [
    "We can use the ``numpy`` package to do this as follows:"
   ]
  },
  {
   "cell_type": "code",
   "execution_count": 5,
   "metadata": {
    "slideshow": {
     "slide_type": "-"
    }
   },
   "outputs": [
    {
     "name": "stdout",
     "output_type": "stream",
     "text": [
      "(Sanity check passed)\n",
      "Number of suitable games: 11068\n",
      "Number of these games Bob won: 979\n",
      "Monte Carlo Probability of Bob winning: 0.09\n",
      "MC Odds against Bob winning: 10 to 1\n"
     ]
    }
   ],
   "source": [
    "import numpy as np\n",
    "np.random.seed(0)\n",
    "\n",
    "# play 100000 games with randomly-drawn p, between 0 and 1\n",
    "p = np.random.random(100000)\n",
    "\n",
    "# each game needs at most 11 rolls for one player to reach 6 wins\n",
    "rolls = np.random.random((11, len(p)))\n",
    "\n",
    "# count the cumulative wins for Alice and Bob at each roll\n",
    "Alice_count = np.cumsum(rolls < p, 0)\n",
    "Bob_count = np.cumsum(rolls >= p, 0)\n",
    "\n",
    "# sanity check: total number of wins should equal number of rolls\n",
    "total_wins = Alice_count + Bob_count\n",
    "assert np.all(total_wins.T == np.arange(1, 12))\n",
    "print(\"(Sanity check passed)\")\n",
    "\n",
    "# determine number of games which meet our criterion of (A wins, B wins)=(5, 3)\n",
    "# this means Bob's win count at eight rolls must equal 3\n",
    "good_games = Bob_count[7] == 3\n",
    "print(\"Number of suitable games: {0}\".format(good_games.sum()))\n",
    "\n",
    "# truncate our results to consider only these games\n",
    "Alice_count = Alice_count[:, good_games]\n",
    "Bob_count = Bob_count[:, good_games]\n",
    "\n",
    "# determine which of these games Bob won.\n",
    "# to win, he must reach six wins after 11 rolls.\n",
    "bob_won = np.sum(Bob_count[10] == 6)\n",
    "print(\"Number of these games Bob won: {0}\".format(bob_won.sum()))\n",
    "\n",
    "# compute the probability\n",
    "mc_prob = bob_won.sum() * 1. / good_games.sum()\n",
    "print(\"Monte Carlo Probability of Bob winning: {0:.2f}\".format(mc_prob))\n",
    "print(\"MC Odds against Bob winning: {0:.0f} to 1\".format((1. - mc_prob) / mc_prob))"
   ]
  },
  {
   "cell_type": "markdown",
   "metadata": {
    "slideshow": {
     "slide_type": "slide"
    }
   },
   "source": [
    "The Monte Carlo approach gives 10-to-1 odds on Bob, which agrees with the Bayesian approach.\n",
    "\n",
    "Apparently, our naïve frequentist approach above was flawed."
   ]
  },
  {
   "cell_type": "markdown",
   "metadata": {
    "slideshow": {
     "slide_type": "slide"
    }
   },
   "source": [
    "### Discussion"
   ]
  },
  {
   "cell_type": "markdown",
   "metadata": {},
   "source": [
    "This example shows several different approaches to dealing with the presence of a nuisance parameter *p*. The Monte Carlo simulation gives us a close brute-force estimate of the true probability (assuming the validity of our assumptions), which the Bayesian approach matches. The naïve frequentist approach, by utilizing a single maximum likelihood estimate of the nuisance parameter $p$, arrives at the wrong result."
   ]
  },
  {
   "cell_type": "markdown",
   "metadata": {
    "slideshow": {
     "slide_type": "slide"
    }
   },
   "source": [
    "**This does not imply frequentism itself is incorrect**. The incorrect result above is more a matter of the approach being \"naïve\" than it being \"frequentist\". There certainly exist frequentist methods for handling this sort of nuisance parameter – for example, it is theoretically possible to apply a transformation and conditioning of the data to isolate the dependence on $p$ (though it's difficult to find any approach to this particular problem that does not somehow take advantage of Bayesian-like marginalization over $p$)."
   ]
  },
  {
   "cell_type": "markdown",
   "metadata": {
    "slideshow": {
     "slide_type": "slide"
    }
   },
   "source": [
    "Another potential point of contention is that the question itself is posed in a way that is perhaps unfair to the classical, frequentist approach. A frequentist might instead hope to give the answer in terms of null tests or confidence intervals: that is, they might devise a procedure to construct limits which would provably bound the correct answer in $100\\times(1 - p)$ percent of similar trials, for some value of $p$ – say, 0.05 (note this is a different $p$ than the $p$ we've been talking about above). ***This might be classically accurate, but it doesn't quite answer the question at hand***!\n",
    "\n",
    "(note: more on this later...)"
   ]
  },
  {
   "cell_type": "markdown",
   "metadata": {
    "slideshow": {
     "slide_type": "slide"
    }
   },
   "source": [
    "***There is one clear common point of these two potential frequentist responses: both require some degree of effort and/or special expertise;*** perhaps a suitable frequentist approach would be immediately obvious to someone with a PhD in statistics, but is most definitely *not* obvious to a statistical lay-person simply trying to answer the question at hand.\n",
    "\n",
    "In this sense, Bayesianism provides a better approach for this sort of problem: by simple algebraic manipulation of a few well-known axioms of probability within a Bayesian framework, we can straightforwardly arrive at the correct answer without need for other special expertise.\n",
    "\n",
    "We'll explore a more data-oriented example of dealing with nuisance parameters next."
   ]
  },
  {
   "cell_type": "markdown",
   "metadata": {
    "slideshow": {
     "slide_type": "slide"
    }
   },
   "source": [
    "## Example #2: Linear Fit with Outliers"
   ]
  },
  {
   "cell_type": "markdown",
   "metadata": {
    "slideshow": {
     "slide_type": "slide"
    }
   },
   "source": [
    "One situation where the concept of nuisance parameters can be helpful is accounting for outliers in data. Consider the following dataset, relating the observed variables $x$ and $y$, and the error of $y$ stored in $e$."
   ]
  },
  {
   "cell_type": "code",
<<<<<<< HEAD
   "execution_count": 7,
=======
   "execution_count": 6,
>>>>>>> 1f284527cd0ec918dc6436cf173ce021e724c947
   "metadata": {},
   "outputs": [],
   "source": [
    "x = np.array([ 0,  3,  9, 14, 15, 19, 20, 21, 30, 35,\n",
    "              40, 41, 42, 43, 54, 56, 67, 69, 72, 88])\n",
    "y = np.array([33, 68, 34, 34, 37, 71, 37, 44, 48, 49,\n",
    "              53, 49, 50, 48, 56, 60, 61, 63, 44, 71])\n",
    "e = np.array([ 3.6, 3.9, 2.6, 3.4, 3.8, 3.8, 2.2, 2.1, 2.3, 3.8,\n",
    "               2.2, 2.8, 3.9, 3.1, 3.4, 2.6, 3.4, 3.7, 2.0, 3.5])"
   ]
  },
  {
   "cell_type": "markdown",
   "metadata": {
    "slideshow": {
     "slide_type": "slide"
    }
   },
   "source": [
    "We'll visualize this data below:"
   ]
  },
  {
   "cell_type": "code",
<<<<<<< HEAD
   "execution_count": 8,
=======
   "execution_count": 7,
>>>>>>> 1f284527cd0ec918dc6436cf173ce021e724c947
   "metadata": {},
   "outputs": [
    {
     "data": {
      "image/png": "iVBORw0KGgoAAAANSUhEUgAAAXQAAAD8CAYAAABn919SAAAABHNCSVQICAgIfAhkiAAAAAlwSFlz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\n",
      "text/plain": [
       "<matplotlib.figure.Figure at 0x7f4fb9c20320>"
      ]
     },
     "metadata": {},
     "output_type": "display_data"
    }
   ],
   "source": [
    "%matplotlib inline\n",
    "import matplotlib.pyplot as plt\n",
    "\n",
    "plt.errorbar(x, y, e, fmt='.k', ecolor='gray');"
   ]
  },
  {
   "cell_type": "markdown",
   "metadata": {
    "slideshow": {
     "slide_type": "slide"
    }
   },
   "source": [
    "Our task is to find a line of best-fit to the data. It's clear upon visual inspection that there are some outliers among these points, but let's start with a simple non-robust maximum likelihood approach. Like we saw in the previous post, the following simple maximum likelihood result can be considered to be either frequentist or Bayesian (with uniform priors): in this sort of simple problem, the approaches are essentially equivalent.\n",
    "\n",
    "We'll propose a simple linear model, which has a slope and an intercept encoded in a parameter vector $\\theta$. The model is defined as follows:\n",
    "$$\n",
    "\\hat{y}(x~|~\\theta) = \\theta_0 + \\theta_1 x\n",
    "$$"
   ]
  },
  {
   "cell_type": "markdown",
   "metadata": {
    "slideshow": {
     "slide_type": "slide"
    }
   },
   "source": [
    "Given this model, we can compute a Gaussian likelihood for each point:\n",
    "$$\n",
    "p(x_i,y_i,e_i~|~\\theta) \\propto \\exp\\left[-\\frac{1}{2e_i^2}\\left(y_i - \\hat{y}(x_i~|~\\theta)\\right)^2\\right]\n",
    "$$\n",
    "The total likelihood is the product of all the individual likelihoods. Computing this and taking the log, we have:\n",
    "$$\n",
    "\\log \\mathcal{L}(D~|~\\theta) = \\mathrm{const} - \\sum_i \\frac{1}{2e_i^2}\\left(y_i - \\hat{y}(x_i~|~\\theta)\\right)^2\n",
    "$$"
   ]
  },
  {
   "cell_type": "markdown",
   "metadata": {
    "slideshow": {
     "slide_type": "slide"
    }
   },
   "source": [
    "This should all look pretty familiar. This final expression is the log-likelihood of the data given the model, which can be maximized to find the $\\theta$ corresponding to the maximum-likelihood model. Equivalently, we can minimize the summation term, which is known as the *loss*:\n",
    "$$\n",
    "\\mathrm{loss} = \\sum_i \\frac{1}{2e_i^2}\\left(y_i - \\hat{y}(x_i~|~\\theta)\\right)^2\n",
    "$$\n",
    "This loss expression is known as a *squared loss*; here we've simply shown that the squared loss can be derived from the Gaussian log likelihood."
   ]
  },
  {
   "cell_type": "markdown",
   "metadata": {
    "slideshow": {
     "slide_type": "slide"
    }
   },
   "source": [
    "### Standard Likelihood Approach"
   ]
  },
  {
   "cell_type": "markdown",
   "metadata": {},
   "source": [
    "Following the logic of the previous post, we can maximize the likelihood (or, equivalently, minimize the loss) to find $\\theta$ within a frequentist paradigm. For a flat prior in $\\theta$, the maximum of the Bayesian posterior will yield the same result.\n",
    "\n",
    "(note that there are good arguments based on the principle of maximum entropy that a flat prior is not the best choice here; we'll ignore that detail for now, as it's a very small effect for this problem)."
   ]
  },
  {
   "cell_type": "markdown",
   "metadata": {
    "slideshow": {
     "slide_type": "slide"
    }
   },
   "source": [
    "For simplicity, we'll use scipy's ``optimize`` package to minimize the loss:"
   ]
  },
  {
   "cell_type": "code",
<<<<<<< HEAD
   "execution_count": 9,
=======
   "execution_count": 8,
>>>>>>> 1f284527cd0ec918dc6436cf173ce021e724c947
   "metadata": {},
   "outputs": [
    {
     "data": {
      "image/png": "iVBORw0KGgoAAAANSUhEUgAAAXQAAAEICAYAAABPgw/pAAAABHNCSVQICAgIfAhkiAAAAAlwSFlz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\ncVzGFWMGpmQAAAAASUVORK5CYII=\n",
      "text/plain": [
       "<matplotlib.figure.Figure at 0x7f4fb4281048>"
      ]
     },
     "metadata": {},
     "output_type": "display_data"
    }
   ],
   "source": [
    "from scipy import optimize\n",
    "\n",
    "def squared_loss(theta, x=x, y=y, e=e):\n",
    "    dy = y - theta[0] - theta[1] * x\n",
    "    return np.sum(0.5 * (dy / e) ** 2)\n",
    "\n",
    "theta1 = optimize.fmin(squared_loss, [0, 0], disp=False)\n",
    "\n",
    "xfit = np.linspace(0, 100)\n",
    "plt.errorbar(x, y, e, fmt='.k', ecolor='gray')\n",
    "plt.plot(xfit, theta1[0] + theta1[1] * xfit, '-k')\n",
    "plt.title('Maximum Likelihood fit: Squared Loss');"
   ]
  },
  {
   "cell_type": "markdown",
   "metadata": {
    "slideshow": {
     "slide_type": "slide"
    }
   },
   "source": [
    "It's clear on examination that the outliers are exerting a disproportionate influence on the fit. This is due to the nature of the squared loss function. If you have a single outlier that is, say 10 standard deviations away from the fit, its contribution to the loss will out-weigh that of 25 points which are 2 standard deviations away!\n",
    "\n",
    "Clearly the squared loss is overly sensitive to outliers, and this is causing issues with our fit. One way to address this within the frequentist paradigm is to simply adjust the loss function to be more robust."
   ]
  },
  {
   "cell_type": "markdown",
   "metadata": {
    "slideshow": {
     "slide_type": "slide"
    }
   },
   "source": [
    "### Frequentist Correction for Outliers: Huber Loss"
   ]
  },
  {
   "cell_type": "markdown",
   "metadata": {},
   "source": [
    "The variety of possible loss functions is quite literally infinite, but one relatively well-motivated option is the [Huber loss](http://en.wikipedia.org/wiki/Huber_loss_function). The Huber loss defines a critical value at which the loss curve transitions from quadratic to linear. Let's create a plot which compares the Huber loss to the standard squared loss for several critical values $c$:"
   ]
  },
  {
   "cell_type": "code",
<<<<<<< HEAD
   "execution_count": 10,
=======
   "execution_count": 9,
>>>>>>> 1f284527cd0ec918dc6436cf173ce021e724c947
   "metadata": {},
   "outputs": [
    {
     "data": {
      "image/png": "iVBORw0KGgoAAAANSUhEUgAAAYgAAAEKCAYAAAAIO8L1AAAABHNCSVQICAgIfAhkiAAAAAlwSFlz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\nUB9t7AAAAABJRU5ErkJggg==\n",
      "text/plain": [
       "<matplotlib.figure.Figure at 0x7f4f88ffa668>"
      ]
     },
     "metadata": {},
     "output_type": "display_data"
    }
   ],
   "source": [
    "t = np.linspace(-20, 20)\n",
    "\n",
    "def huber_loss(t, c=3):\n",
    "    return ((abs(t) < c) * 0.5 * t ** 2\n",
    "            + (abs(t) >= c) * -c * (0.5 * c - abs(t)))\n",
    "\n",
    "plt.plot(t, 0.5 * t ** 2, label=\"squared loss\", lw=2)\n",
    "for c in (10, 5, 3):\n",
    "    plt.plot(t, huber_loss(t, c), label=\"Huber loss, c={0}\".format(c), lw=2)\n",
    "plt.ylabel('loss')\n",
    "plt.xlabel('standard deviations')\n",
    "plt.legend(loc='best', frameon=False);"
   ]
  },
  {
   "cell_type": "markdown",
   "metadata": {
    "slideshow": {
     "slide_type": "slide"
    }
   },
   "source": [
    "The Huber loss is equivalent to the squared loss for points which are well-fit by the model, but reduces the loss contribution of outliers. For example, a point 20 standard deviations from the fit has a squared loss of 200, but a c=3 Huber loss of just over 55. Let's see the result of the best-fit line using the Huber loss rather than the squared loss. We'll plot the squared loss result in light gray for comparison:"
   ]
  },
  {
   "cell_type": "code",
<<<<<<< HEAD
   "execution_count": 11,
=======
   "execution_count": 10,
>>>>>>> 1f284527cd0ec918dc6436cf173ce021e724c947
   "metadata": {},
   "outputs": [
    {
     "data": {
      "image/png": "iVBORw0KGgoAAAANSUhEUgAAAXQAAAEICAYAAABPgw/pAAAABHNCSVQICAgIfAhkiAAAAAlwSFlz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\nN8aYCPH/AY3i1OrtAM8wAAAAAElFTkSuQmCC\n",
      "text/plain": [
       "<matplotlib.figure.Figure at 0x7f4f890a6be0>"
      ]
     },
     "metadata": {},
     "output_type": "display_data"
    }
   ],
   "source": [
    "def total_huber_loss(theta, x=x, y=y, e=e, c=3):\n",
    "    return huber_loss((y - theta[0] - theta[1] * x) / e, c).sum()\n",
    "\n",
    "theta2 = optimize.fmin(total_huber_loss, [0, 0], disp=False)\n",
    "\n",
    "plt.errorbar(x, y, e, fmt='.k', ecolor='gray')\n",
    "plt.plot(xfit, theta1[0] + theta1[1] * xfit, color='lightgray')\n",
    "plt.plot(xfit, theta2[0] + theta2[1] * xfit, color='black')\n",
    "plt.title('Maximum Likelihood fit: Huber loss');"
   ]
  },
  {
   "cell_type": "markdown",
   "metadata": {
    "slideshow": {
     "slide_type": "slide"
    }
   },
   "source": [
    "By eye, this seems to have worked as desired: the fit is much closer to our intuition!\n",
    "\n",
    "However a Bayesian might point out that the motivation for this new loss function is a bit suspect: as we showed, the squared-loss can be straightforwardly derived from a Gaussian likelihood. The Huber loss seems a bit *ad hoc*: where does it come from? How should we decide what value of $c$ to use? Is there any good motivation for using a linear loss on outliers, or should we simply remove them instead? How might this choice affect our resulting model?"
   ]
  },
  {
   "cell_type": "markdown",
   "metadata": {
    "slideshow": {
     "slide_type": "slide"
    }
   },
   "source": [
    "### A Bayesian Approach to Outliers: Nuisance Parameters"
   ]
  },
  {
   "cell_type": "markdown",
   "metadata": {},
   "source": [
    "The Bayesian approach to accounting for outliers generally involves *modifying the model* so that the outliers are accounted for. For this data, it is abundantly clear that a simple straight line is not a good fit to our data. So let's propose a more complicated model that has the flexibility to account for outliers."
   ]
  },
  {
   "cell_type": "markdown",
   "metadata": {
    "slideshow": {
     "slide_type": "slide"
    }
   },
   "source": [
    "One option is to choose a mixture between a signal and a background:\n",
    "\n",
    "$$\n",
    "\\begin{array}{ll}\n",
    "p(\\{x_i\\}, \\{y_i\\},\\{e_i\\}~|~\\theta,\\{g_i\\},\\sigma,\\sigma_b) = & \\frac{g_i}{\\sqrt{2\\pi e_i^2}}\\exp\\left[\\frac{-\\left(\\hat{y}(x_i~|~\\theta) - y_i\\right)^2}{2e_i^2}\\right] \\\\\n",
    "&+ \\frac{1 - g_i}{\\sqrt{2\\pi \\sigma_B^2}}\\exp\\left[\\frac{-\\left(\\hat{y}(x_i~|~\\theta) - y_i\\right)^2}{2\\sigma_B^2}\\right]\n",
    "\\end{array}\n",
    "$$\n",
    "\n",
    "What we've done is expanded our model with some nuisance parameters: $\\{g_i\\}$ is a series of weights which range from 0 to 1 and encode for each point $i$ the degree to which it fits the model. $g_i=0$ indicates an outlier, in which case a Gaussian of width $\\sigma_B$ is used in the computation of the likelihood. This $\\sigma_B$ can also be a nuisance parameter, or its value can be set at a sufficiently high number, say 50."
   ]
  },
  {
   "cell_type": "markdown",
   "metadata": {
    "slideshow": {
     "slide_type": "slide"
    }
   },
   "source": [
    "Our model is much more complicated now: it has 22 parameters rather than 2, but the majority of these can be considered nuisance parameters, which can be marginalized-out in the end, just as we marginalized (integrated) over $p$ in the Billiard example.  Let's construct a function which implements this likelihood. As in the previous post, we'll use the [emcee](http://dan.iel.fm/emcee/current/) package to explore the parameter space."
   ]
  },
  {
   "cell_type": "markdown",
   "metadata": {
    "slideshow": {
     "slide_type": "slide"
    }
   },
   "source": [
    "To actually compute this, we'll start by defining functions describing our prior, our likelihood function, and our posterior:"
   ]
  },
  {
   "cell_type": "code",
   "execution_count": 13,
   "metadata": {
    "slideshow": {
     "slide_type": "-"
    }
   },
   "outputs": [],
   "source": [
    "# theta will be an array of length 2 + N, where N is the number of points\n",
    "# theta[0] is the intercept, theta[1] is the slope,\n",
    "# and theta[2 + i] is the weight g_i\n",
    "\n",
    "def log_prior(theta):\n",
    "    #g_i needs to be between 0 and 1\n",
    "    if (all(theta[2:] > 0) and all(theta[2:] < 1)):\n",
    "        return 0\n",
    "    else:\n",
    "        return -np.inf  # recall log(0) = -inf\n",
    "\n",
    "def log_likelihood(theta, x, y, e, sigma_B):\n",
    "    dy = y - theta[0] - theta[1] * x\n",
    "    g = np.clip(theta[2:], 0, 1)  # g<0 or g>1 leads to NaNs in logarithm\n",
    "    logL1 = np.log(g) - 0.5 * np.log(2 * np.pi * e ** 2) - 0.5 * (dy / e) ** 2\n",
    "    logL2 = np.log(1 - g) - 0.5 * np.log(2 * np.pi * sigma_B ** 2) - 0.5 * (dy / sigma_B) ** 2\n",
    "    return np.sum(np.logaddexp(logL1, logL2))\n",
    "\n",
    "def log_posterior(theta, x, y, e, sigma_B):\n",
    "    return log_prior(theta) + log_likelihood(theta, x, y, e, sigma_B)"
   ]
  },
  {
   "cell_type": "markdown",
   "metadata": {
    "slideshow": {
     "slide_type": "slide"
    }
   },
   "source": [
    "Now we'll run the MCMC samples to explore the parameter space:"
   ]
  },
  {
   "cell_type": "code",
<<<<<<< HEAD
   "execution_count": 14,
=======
   "execution_count": 12,
>>>>>>> 1f284527cd0ec918dc6436cf173ce021e724c947
   "metadata": {},
   "outputs": [
    {
     "name": "stderr",
     "output_type": "stream",
     "text": [
      "/home/karina/anaconda3/lib/python3.6/site-packages/ipykernel_launcher.py:16: RuntimeWarning: divide by zero encountered in log\n",
      "  app.launch_new_instance()\n",
      "/home/karina/anaconda3/lib/python3.6/site-packages/ipykernel_launcher.py:15: RuntimeWarning: divide by zero encountered in log\n",
      "  from ipykernel import kernelapp as app\n"
     ]
    }
   ],
   "source": [
    "# Note that this step will take a few minutes to run!\n",
    "\n",
    "ndim = 2 + len(x)  # number of parameters in the model\n",
    "nwalkers = 50  # number of MCMC walkers\n",
    "nburn = 10000  # \"burn-in\" period to let chains stabilize\n",
    "nsteps = 15000  # number of MCMC steps to take\n",
    "\n",
    "# set theta near the maximum likelihood, with \n",
    "np.random.seed(0)\n",
    "starting_guesses = np.zeros((nwalkers, ndim))\n",
    "starting_guesses[:, :2] = np.random.normal(theta1, 1, (nwalkers, 2))\n",
    "starting_guesses[:, 2:] = np.random.normal(0.5, 0.1, (nwalkers, ndim - 2))\n",
    "\n",
    "import emcee\n",
    "sampler = emcee.EnsembleSampler(nwalkers, ndim, log_posterior, args=[x, y, e, 50])\n",
    "sampler.run_mcmc(starting_guesses, nsteps)\n",
    "\n",
    "sample = sampler.chain  # shape = (nwalkers, nsteps, ndim)\n",
    "sample = sampler.chain[:, nburn:, :].reshape(-1, ndim)"
   ]
  },
  {
   "cell_type": "markdown",
   "metadata": {
    "slideshow": {
     "slide_type": "slide"
    }
   },
   "source": [
    "Once we have these samples, we can exploit a very nice property of the Markov chains. Because their distribution models the posterior, we can integrate out (i.e. marginalize) over nuisance parameters simply by ignoring them!"
   ]
  },
  {
   "cell_type": "markdown",
   "metadata": {
    "slideshow": {
     "slide_type": "slide"
    }
   },
   "source": [
    "We can look at the (marginalized) distribution of slopes and intercepts by examining the first two columns of the sample:"
   ]
  },
  {
   "cell_type": "code",
<<<<<<< HEAD
   "execution_count": 15,
=======
   "execution_count": 13,
>>>>>>> 1f284527cd0ec918dc6436cf173ce021e724c947
   "metadata": {},
   "outputs": [
    {
     "data": {
      "image/png": "iVBORw0KGgoAAAANSUhEUgAAAYwAAAEKCAYAAAAB0GKPAAAABHNCSVQICAgIfAhkiAAAAAlwSFlz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\nvHNdAAAAAElFTkSuQmCC\n",
      "text/plain": [
       "<matplotlib.figure.Figure at 0x7f4f89096ba8>"
      ]
     },
     "metadata": {},
     "output_type": "display_data"
    }
   ],
   "source": [
    "plt.plot(sample[:, 0], sample[:, 1], ',k', alpha=0.1)\n",
    "plt.xlabel('intercept')\n",
    "plt.ylabel('slope');"
   ]
  },
  {
   "cell_type": "markdown",
   "metadata": {},
   "source": [
    "We see a distribution of points near a slope of $\\sim 0.45$, and an intercept of $\\sim 31$. We'll plot this model over the data below, but first let's see what other information we can extract from this trace."
   ]
  },
  {
   "cell_type": "markdown",
   "metadata": {
    "slideshow": {
     "slide_type": "slide"
    }
   },
   "source": [
    "One nice feature of analyzing MCMC samples is that the choice of nuisance parameters is completely symmetric: just as we can treat the $\\{g_i\\}$ as nuisance parameters, we can also treat the slope and intercept as nuisance parameters! Let's do this, and check the posterior for $g_1$ and $g_2$, the outlier flag for the first two points:"
   ]
  },
  {
   "cell_type": "code",
<<<<<<< HEAD
   "execution_count": 16,
=======
   "execution_count": 14,
>>>>>>> 1f284527cd0ec918dc6436cf173ce021e724c947
   "metadata": {},
   "outputs": [
    {
     "name": "stdout",
     "output_type": "stream",
     "text": [
      "g1 mean: 0.62\n",
      "g2 mean: 0.37\n"
     ]
    },
    {
     "data": {
      "image/png": "iVBORw0KGgoAAAANSUhEUgAAAYcAAAEMCAYAAAAvaXplAAAABHNCSVQICAgIfAhkiAAAAAlwSFlz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\n",
      "text/plain": [
       "<matplotlib.figure.Figure at 0x7f4f88dfd9e8>"
      ]
     },
     "metadata": {},
     "output_type": "display_data"
    }
   ],
   "source": [
    "plt.plot(sample[:, 2], sample[:, 3], ',k', alpha=0.1)\n",
    "plt.xlabel('$g_1$')\n",
    "plt.ylabel('$g_2$')\n",
    "\n",
    "print(\"g1 mean: {0:.2f}\".format(sample[:, 2].mean()))\n",
    "print(\"g2 mean: {0:.2f}\".format(sample[:, 3].mean()))"
   ]
  },
  {
   "cell_type": "markdown",
   "metadata": {
    "slideshow": {
     "slide_type": "slide"
    }
   },
   "source": [
    "There is not an extremely strong constraint on either of these, but we do see that $(g_1, g_2) = (1, 0)$ is slightly favored: the means of $g_1$ and $g_2$ are greater than and less than 0.5, respecively. If we choose a cutoff at $g=0.5$, our algorithm has identified $g_2$ as an outlier."
   ]
  },
  {
   "cell_type": "markdown",
   "metadata": {
    "slideshow": {
     "slide_type": "slide"
    }
   },
   "source": [
    "Let's make use of all this information, and plot the marginalized best model over the original data. As a bonus, we'll draw red circles to indicate which points the model detects as outliers:"
   ]
  },
  {
   "cell_type": "code",
<<<<<<< HEAD
   "execution_count": 17,
=======
   "execution_count": 15,
>>>>>>> 1f284527cd0ec918dc6436cf173ce021e724c947
   "metadata": {},
   "outputs": [
    {
     "data": {
      "image/png": "iVBORw0KGgoAAAANSUhEUgAAAXQAAAEICAYAAABPgw/pAAAABHNCSVQICAgIfAhkiAAAAAlwSFlz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\nEprQlVIqSPw/TkgVRceep7UAAAAASUVORK5CYII=\n",
      "text/plain": [
       "<matplotlib.figure.Figure at 0x7f4fb9c0fe48>"
      ]
     },
     "metadata": {},
     "output_type": "display_data"
    }
   ],
   "source": [
    "theta3 = np.mean(sample[:, :2], 0)\n",
    "g = np.mean(sample[:, 2:], 0)\n",
    "outliers = (g < 0.5)\n",
    "\n",
    "plt.errorbar(x, y, e, fmt='.k', ecolor='gray')\n",
    "plt.plot(xfit, theta1[0] + theta1[1] * xfit, color='lightgray')\n",
    "plt.plot(xfit, theta2[0] + theta2[1] * xfit, color='lightgray')\n",
    "plt.plot(xfit, theta3[0] + theta3[1] * xfit, color='black')\n",
    "plt.plot(x[outliers], y[outliers], 'ro', ms=20, mfc='none', mec='red')\n",
    "plt.title('Maximum Likelihood fit: Bayesian Marginalization');"
   ]
  },
  {
   "cell_type": "markdown",
   "metadata": {},
   "source": [
    "The result, shown by the dark line, matches our intuition! Furthermore, the points automatically identified as outliers are the ones we would identify by hand.  For comparison, the gray lines show the two previous approaches: the simple maximum likelihood and the frequentist approach based on Huber loss."
   ]
  },
  {
   "cell_type": "markdown",
   "metadata": {
    "slideshow": {
     "slide_type": "slide"
    }
   },
   "source": [
    "### Discussion"
   ]
  },
  {
   "cell_type": "markdown",
   "metadata": {},
   "source": [
    "Here we've dived into linear regression in the presence of outliers. A typical Gaussian maximum likelihood approach fails to account for the outliers, but we were able to correct this in the frequentist paradigm by modifying the loss function, and in the Bayesian paradigm by adopting a mixture model with a large number of nuisance parameters.\n",
    "\n",
    "Both approaches have their advantages and disadvantages: the frequentist approach here is relatively straightforward and computationally efficient, but is based on the use of a loss function which is not particularly well-motivated. The Bayesian approach is well-founded and produces very nice results, but requires a rather subjective specification of a prior. It is also much more intensive in both coding time and computational time."
   ]
  },
  {
   "cell_type": "markdown",
   "metadata": {
    "slideshow": {
     "slide_type": "slide"
    }
   },
   "source": [
    "## Conclusion... for now"
   ]
  },
  {
   "cell_type": "markdown",
   "metadata": {
    "slideshow": {
     "slide_type": "slide"
    }
   },
   "source": [
    "### Frequentist Analysis: Apply with Care\n",
    "\n",
    "We started with a discussion of the philosophical differences between frequentism and Bayesianism, and showed that, despite these differences, they often give the same result for simple problems. Here we've explored one category of problem where the results begin to diverge: accounting for nuisance parameters.\n",
    "\n",
    "For Bayes' billiard ball example, we showed that a naïve frequentist approach leads to the wrong answer, while a naïve Bayesian approach leads to the correct answer. This doesn't mean frequentism is wrong, but it does mean we ***must be very careful when applying it***."
   ]
  },
  {
   "cell_type": "markdown",
   "metadata": {
    "slideshow": {
     "slide_type": "slide"
    }
   },
   "source": [
    "### Bayesian Analysis: Cognitively Simple, Computationally Expensive\n",
    "\n",
    "For the linear regression example, we showed one possible approach from both frequentism and Bayesianism for accounting for outliers in our data.\n",
    "\n",
    "Using a robust frequentist cost function is relatively fast and painless, but is dubiously motivated and leads to results which are difficult to interpret.\n",
    "\n",
    "Using a Bayesian mixture model takes more effort and requires more intensive computation, but leads to a very nice result in which multiple questions can be answered at once: in this case, marginalizing one way to find the best-fit model, and marginalizing another way to identify outliers in the data."
   ]
  },
  {
   "cell_type": "markdown",
   "metadata": {
    "slideshow": {
     "slide_type": "slide"
    }
   },
   "source": [
    "### Which Approach is Better?\n",
    "\n",
    "The answer probably depends on your level of expertise in frequentist and Bayesian methods, as well as the size of your problem and your available computational resources. Applied appropriately, frequentist analyses can give correct results at typically smaller computational expense.\n",
    "\n",
    "***But with Bayesianism, based on algebraic manipulation of a few probability axioms, we can construct extremely flexible methods to address a wide variety of problems.*** Just as the conservation of mass-energy can be applied to everything from projectile motion to stellar structure, Bayes' rule and the Bayesian probability interpretation can be applied to solve virtually any statistical problem: from computing gambling odds to detecting exoplanet transits in noisy photometric data."
   ]
  },
  {
   "cell_type": "markdown",
   "metadata": {
    "slideshow": {
     "slide_type": "slide"
    }
   },
   "source": [
    "In a Bayesian paradigm, you need not spend years memorizing and understanding obscure frequentist techniques and jargon (p-values, null tests, confidence intervals, breakdown points, etc.) in order to do such nontrivial analyses. \n",
    "\n",
    "***It's a common misconception: people imagine that Bayesian analysis is hard. On the contrary, many scientists use it just because it's easy!***"
   ]
  },
  {
   "cell_type": "markdown",
   "metadata": {
    "slideshow": {
     "slide_type": "slide"
    }
   },
   "source": [
    "### Why \"Bayesian\" is the Correct Answer\n",
    "\n",
    "Ease and aesthetics aside, though, there's a further important reason to sit firmly in the Bayesian camp, and that has to do with the interpretation of frequentist confidence intervals and Bayesian credibility regions within the context of scientific data.\n",
    "\n",
    "We look at that next."
   ]
  }
 ],
 "metadata": {
  "anaconda-cloud": {},
  "celltoolbar": "Slideshow",
  "kernelspec": {
   "display_name": "Python 3",
   "language": "python",
   "name": "python3"
  },
  "language_info": {
   "codemirror_mode": {
    "name": "ipython",
    "version": 3
   },
   "file_extension": ".py",
   "mimetype": "text/x-python",
   "name": "python",
   "nbconvert_exporter": "python",
   "pygments_lexer": "ipython3",
<<<<<<< HEAD
   "version": "3.6.1"
=======
   "version": "3.6.2"
>>>>>>> 1f284527cd0ec918dc6436cf173ce021e724c947
  },
  "livereveal": {
   "scroll": true,
   "start_slideshow_at": "selected",
   "theme": "sky"
  }
 },
 "nbformat": 4,
 "nbformat_minor": 1
}
